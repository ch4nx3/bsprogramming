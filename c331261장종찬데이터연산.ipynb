{
 "cells": [
  {
   "cell_type": "markdown",
   "id": "168e5dfe",
   "metadata": {},
   "source": [
    "비즈니스 프로그래밍_과제1번_홍익대학교_c331261_장종찬\n",
    "\n",
    "C331261장종찬\n",
    "데이터연산 "
   ]
  },
  {
   "cell_type": "markdown",
   "id": "8b6cbca5",
   "metadata": {},
   "source": [
    "연산 \n",
    "-\t연산자는 데이터를 처리하는 기호로, 연산을 수행하는 기능을 가지고 있음 \n",
    "-\t연산자를 사용한 문자를 표현식이라고 함 \n",
    "-\t산술연산자 > 관계연산자 > 논리 연산자 \n",
    "\n",
    "연산자는 우선순위가 있으나, () 이용 – 순서를 명확히 하는 것이 좋음 \n",
    "\n",
    "연산\n",
    "• 연산(operation)이란 연산자를 이용하여 데이터를 처리하는 것\n",
    "산술 연산\n",
    "◦\t산술연산자(Arithmetic Operator)는 숫자 데이터를 처리하는 연산자로서 값을 반환\n",
    "◦\t+: 덧셈, -: 뺄셈, *: 곱셈, /: 나눗셈\n",
    "\t//: 몫, %: 나머지\n",
    "◦\t**: 거듭제곱\n",
    "◦\t산술연산자는 숫자형 데이터에만 사용 가능\n",
    "◦\t산술연산자를 다른 데이터 유형에 사용하면 다른 기능을 수행\n",
    "◦\titerable 자료형에 + 연산자를 사용하면 데이터를 연결\n",
    "iterable 자료형에 * 연산자를 사용하면 데이터를 반복\n"
   ]
  },
  {
   "cell_type": "code",
   "execution_count": 1,
   "id": "42b645ef",
   "metadata": {},
   "outputs": [
    {
     "name": "stdout",
     "output_type": "stream",
     "text": [
      "2 + 3 = 5\n",
      "2.0 + 3 = 5.0\n",
      "2.0 + 3.0 = 5.0\n",
      "\"2\" + \"3\" = '23'\n",
      "can only concatenate str (not \"int\") to str\n"
     ]
    }
   ],
   "source": [
    "# 정수 + 정수\n",
    "print(f'{2 + 3 = }')\n",
    "\n",
    "# 정수 + 실수\n",
    "print(f'{2.0 + 3 = }')  # 2.0 + 3 = 5.0\n",
    "\n",
    "# 실수 + 실수\n",
    "print(f'{2.0 + 3.0 = }')  # 2.0 + 3.0 = 5.0\n",
    "\n",
    "# 문자열 + 문자열\n",
    "print(f'{\"2\" + \"3\" = }')  # '2' + '3' = '23'\n",
    "\n",
    "# 정수 + 문자열 → 오류 발생\n",
    "try:\n",
    "    print(f'{\"2\" + 3 = }')  # TypeError\n",
    "except Exception as e:\n",
    "    print(e)\n"
   ]
  },
  {
   "cell_type": "code",
   "execution_count": 2,
   "id": "e981eb9a",
   "metadata": {},
   "outputs": [
    {
     "name": "stdout",
     "output_type": "stream",
     "text": [
      "2 - 3 = -1\n",
      "2.0 - 3 = -1.0\n",
      "2.0 - 3.0 = -1.0\n",
      "2 * 3 = 6\n",
      "2.0 * 3 = 6.0\n",
      "2.0 * 3.0 = 6.0\n",
      "2 / 3 = 0.6666666666666666\n",
      "2.0 / 3 = 0.6666666666666666\n",
      "2.0 / 3.0 = 0.6666666666666666\n"
     ]
    }
   ],
   "source": [
    "# 정수 - 정수\n",
    "print(f'{2 - 3 = }')\n",
    "\n",
    "# 실수 - 정수\n",
    "print(f'{2.0 - 3 = }')\n",
    "\n",
    "# 실수 - 실수\n",
    "print(f'{2.0 - 3.0 = }')\n",
    "\n",
    "# 정수 * 정수\n",
    "print(f'{2 * 3 = }')\n",
    "\n",
    "# 실수 * 정수\n",
    "print(f'{2.0 * 3 = }')\n",
    "\n",
    "# 실수 * 실수\n",
    "print(f'{2.0 * 3.0 = }')\n",
    "\n",
    "# 정수 / 정수\n",
    "print(f'{2 / 3 = }')\n",
    "\n",
    "# 실수 / 정수\n",
    "print(f'{2.0 / 3 = }')\n",
    "\n",
    "# 실수 / 실수\n",
    "print(f'{2.0 / 3.0 = }')\n"
   ]
  },
  {
   "cell_type": "code",
   "execution_count": 3,
   "id": "e4711844",
   "metadata": {},
   "outputs": [
    {
     "name": "stdout",
     "output_type": "stream",
     "text": [
      "20 // 3 = 6\n",
      "20 % 3 = 2\n"
     ]
    }
   ],
   "source": [
    "# 몫 연산\n",
    "print(f'{20 // 3 = }')\n",
    "\n",
    "# 나머지 연산\n",
    "print(f'{20 % 3 = }')\n",
    "\n"
   ]
  },
  {
   "cell_type": "code",
   "execution_count": 6,
   "id": "b7f77bd8",
   "metadata": {},
   "outputs": [
    {
     "name": "stdout",
     "output_type": "stream",
     "text": [
      "2**3 = 8\n"
     ]
    }
   ],
   "source": [
    "#거듭제곱 \n",
    "print(f'{2**3 = }')\n"
   ]
  },
  {
   "cell_type": "code",
   "execution_count": 8,
   "id": "141030ad",
   "metadata": {},
   "outputs": [
    {
     "name": "stdout",
     "output_type": "stream",
     "text": [
      "var_x + var_x = 'AbcAbc'\n",
      "var_y + var_y = [100, 2, 3, 100, 2, 3]\n",
      "var_x * 3 = 'AbcAbcAbc'\n",
      "var_y * 3 = [100, 2, 3, 100, 2, 3, 100, 2, 3]\n"
     ]
    }
   ],
   "source": [
    "var_x = 'Abc'\n",
    "var_y = [100, 2, 3]\n",
    "\n",
    "# 문자열 덧셈: 연결\n",
    "print(f'{var_x + var_x = }')  # 'AbcAbc'\n",
    "\n",
    "# 리스트 덧셈: 이어붙임\n",
    "print(f'{var_y + var_y = }')  # [100, 2, 3, 100, 2, 3]\n",
    "\n",
    "# 문자열과 정수의 곱\n",
    "print(f'{var_x * 3 = }')      # 'AbcAbcAbc'\n",
    "\n",
    "# 리스트와 정수의 곱 \n",
    "print(f'{var_y * 3 = }')      # [100, 2, 3, 100, 2, 3, 100, 2, 3]\n",
    "\n"
   ]
  },
  {
   "cell_type": "markdown",
   "id": "00f9ff17",
   "metadata": {},
   "source": [
    "비교 연산\n",
    "◦\t관계연산자(relational operator)는 두 개의 피연산자를 비교하여 관계를 확인하는 연산자로서 True 또는 False를 반환 \n",
    "◦\t =: 같다, !=: 같지 않다\n",
    "\t>, <; 크다, 작다 \n",
    ">=, <=: 크거나 같다, 작거나 같다\n"
   ]
  },
  {
   "cell_type": "code",
   "execution_count": 9,
   "id": "2a26e5f2",
   "metadata": {},
   "outputs": [
    {
     "name": "stdout",
     "output_type": "stream",
     "text": [
      "2 == 3 = False\n",
      "2 != 3 = True\n",
      "2 > 3 = False\n",
      "2 < 3 = True\n",
      "2 >= 3 = False\n",
      "2 <= 3 = True\n"
     ]
    }
   ],
   "source": [
    "print(f'{2 == 3 = }')         # False\n",
    "print(f'{2 != 3 = }')         # True\n",
    "print(f'{2 > 3 = }')          # False\n",
    "print(f'{2 < 3 = }')          # True\n",
    "print(f'{2 >= 3 = }')         # False\n",
    "print(f'{2 <= 3 = }')         # True\n",
    "\n"
   ]
  },
  {
   "cell_type": "code",
   "execution_count": 10,
   "id": "0c0c7ccc",
   "metadata": {},
   "outputs": [
    {
     "name": "stdout",
     "output_type": "stream",
     "text": [
      "(var_y == [1, 2, 3]) = True\n",
      "(var_y == (1, 2, 3)) = False\n",
      "(var_y == [1, 2]) = False\n",
      "(var_y != [1, 2]) = True\n",
      "(var_y > [1, 2]) = True\n",
      "(var_y < [1, 2]) = False\n"
     ]
    }
   ],
   "source": [
    "#변수 var_y에 리스트 [1, 2, 3]을 할당\n",
    "var_y = [1, 2, 3]\n",
    "\n",
    "# 리스트 비교\n",
    "print(f'{(var_y == [1, 2, 3]) = }')   # # var_y와 [1, 2, 3]이 같은지 비교\n",
    "print(f'{(var_y == (1, 2, 3)) = }')   # # var_y와 (1, 2, 3)이 같은지 비교\n",
    "\n",
    "print(f'{(var_y == [1, 2]) = }')      # # var_y와 [1, 2]가 같은지 비교\n",
    "\n",
    "print(f'{(var_y != [1, 2]) = }')      # # var_y와 [1, 2]가 다른지 비교\n",
    "\n",
    "print(f'{(var_y > [1, 2]) = }')       # # var_y가 [1, 2]보다 큰지 비교\n",
    "\n",
    "print(f'{(var_y < [1, 2]) = }')       # var_y가 [1, 2]보다 작은지 비교\n"
   ]
  },
  {
   "cell_type": "markdown",
   "id": "b7e33a5d",
   "metadata": {},
   "source": [
    "논리 연산\n",
    "◦\t논리연산자(Logical Operators)는 논리적인 명제를 판단하는 연산자로서 True 또는 False 를 반환\n",
    "◦\tand : 논리곱, 둘 다 참일 때만 참\n",
    "◦\tor: 논리합. 둘 중 하나만 참이어도 참\n",
    "not: 논리부정, 참이면 거짓, 거짓이면 참\n",
    "\n",
    "#True와 True를 and 연산 \n",
    "True and true \n",
    "\n",
    "#변수 var_x에 불리언 True를 할당 \n",
    "var_x = True\n",
    "#변수 var_y에 10<20의 결과를 할당 \n",
    "var_y = (10 > 20)  # False\n"
   ]
  },
  {
   "cell_type": "code",
   "execution_count": 13,
   "id": "d6bdce8f",
   "metadata": {},
   "outputs": [
    {
     "name": "stdout",
     "output_type": "stream",
     "text": [
      "var_y = [1, 2, 3]\n",
      "(var_x and var_y) = [1, 2, 3]\n",
      "(var_x or var_y) = 'Abc'\n",
      "(not var_x) = False\n",
      " (2==3)and (2!=3) = False\n"
     ]
    }
   ],
   "source": [
    "print(f'{var_y = }')                  # var_y의 값을 출력\n",
    "print(f'{(var_x and var_y) = }')      # var_x와 var_y의 논리곱을 출력 \n",
    "print(f'{(var_x or var_y) = }')       # var_x와 var_y의 논리합을 출력 \n",
    "print(f'{(not var_x) = }')            # var_x의 논리 부정을 출력 \n",
    "\n",
    "#관계연산자와 논리 연산자를 함께 사용 \n",
    "print(f' {(2==3)and (2!=3) = }')\n"
   ]
  },
  {
   "cell_type": "markdown",
   "id": "5830000b",
   "metadata": {},
   "source": [
    "멤버십 연산: 데이터가 특정 데이터 집합에 포함 되어 있는 지를 확인 하는 연산자 True 또는 False를 반환 \n",
    "-\tin: 포함 되어 있으면 참 \n",
    "-\tnot in: 포함되어 있지 않으면 참 \n"
   ]
  },
  {
   "cell_type": "code",
   "execution_count": 14,
   "id": "91506844",
   "metadata": {},
   "outputs": [
    {
     "name": "stdout",
     "output_type": "stream",
     "text": [
      "(1 in var_y) = True\n",
      "(\"1\" in var_y) = False\n",
      "(4 in var_y) = False\n",
      "(1 not in var_y) = False\n",
      "(4 not in var_y) = True\n"
     ]
    }
   ],
   "source": [
    "var_y = [1, 2, 3]\n",
    "\n",
    "print(f'{(1 in var_y) = }')        # True: 숫자 1이 리스트에 있음\n",
    "print(f'{(\"1\" in var_y) = }')      # False: 문자열 '1'은 없음\n",
    "print(f'{(4 in var_y) = }')        # False: 4는 없음\n",
    "print(f'{(1 not in var_y) = }')    # False: 1은 포함됨\n",
    "print(f'{(4 not in var_y) = }')    # True: 4는 포함 안 됨\n"
   ]
  },
  {
   "cell_type": "markdown",
   "id": "dde06766",
   "metadata": {},
   "source": [
    "식별연산 \n",
    "-\t식별연산자는 두 개의 데이터가 동일한 객체인지를 확인하는 연산자, True 또는 False 반환 \n",
    "-\tIs 동일한 객체이면 참 \n",
    "-\tIs not : 동일한 객체가 아니면 참 \n",
    "\n",
    "비교연산자는 두개의 데이터가 동일한 값을 가지는지 확인, 식별연산자는 두개의 데이터가 동일한 주소를 갖는지 확인 \n"
   ]
  },
  {
   "cell_type": "code",
   "execution_count": 17,
   "id": "ee783b43",
   "metadata": {},
   "outputs": [
    {
     "name": "stdout",
     "output_type": "stream",
     "text": [
      "(var_x == 10) = True\n",
      "var_x is 10 = True\n"
     ]
    },
    {
     "name": "stderr",
     "output_type": "stream",
     "text": [
      "<>:8: SyntaxWarning: \"is\" with 'int' literal. Did you mean \"==\"?\n",
      "<>:8: SyntaxWarning: \"is\" with 'int' literal. Did you mean \"==\"?\n",
      "C:\\Users\\장종찬\\AppData\\Local\\Temp\\ipykernel_14760\\1063725815.py:8: SyntaxWarning: \"is\" with 'int' literal. Did you mean \"==\"?\n",
      "  print(f'{var_x is 10 = }')\n"
     ]
    }
   ],
   "source": [
    "#변수 var_x에 정수 10을 할당\n",
    "var_x = 10\n",
    "\n",
    "#var_x가 10과 값이 같은 지 확인 \n",
    "print(f'{(var_x == 10) = }')\n",
    "\n",
    "#var_xr 가 10과 주소가 같은지 확인 -> 경고 발생 \n",
    "print(f'{var_x is 10 = }') \n"
   ]
  },
  {
   "cell_type": "code",
   "execution_count": 18,
   "id": "1f9c5fa0",
   "metadata": {},
   "outputs": [
    {
     "name": "stdout",
     "output_type": "stream",
     "text": [
      "(var_x is var_y) = False\n",
      "(var_x is var_z) = True\n",
      "(var_x is not var_y) = True\n",
      "(var_x is not var_z) = False\n"
     ]
    }
   ],
   "source": [
    "var_x = 10 #변수 var_x에 정수 10을 할당\n",
    "var_y = 10.0 # 변수 var_y에 실수 10.0을 할당 \n",
    "var_z = var_x #변수 var_z에 var_x를 할당 \n",
    "\n",
    "print(f'{(var_x is var_y) = }')       # var_x와 var_y의 주소가 같은지 확인 \n",
    "print(f'{(var_x is var_z) = }')       # var_x와 var_z의 주소가 같은지 확인\n",
    "print(f'{(var_x is not var_y) = }')   # var_x와 var_y의 주소가 다른지 확인 \n",
    "print(f'{(var_x is not var_z) = }')   # var_x와 var_z의 주소가 다른지 확인 \n",
    "\n"
   ]
  },
  {
   "cell_type": "markdown",
   "id": "71010256",
   "metadata": {},
   "source": [
    "복합대입연산\n",
    "-\t복합 대입 연산자는 연산과 대입을 동시에 수행하는 연산자 \n"
   ]
  },
  {
   "cell_type": "code",
   "execution_count": 19,
   "id": "7714fdd0",
   "metadata": {},
   "outputs": [
    {
     "name": "stdout",
     "output_type": "stream",
     "text": [
      "2\n",
      "11\n",
      "10\n",
      "20\n",
      "10.0\n",
      "5.0\n",
      "1.0\n",
      "1.0\n"
     ]
    }
   ],
   "source": [
    "var_x = 1\n",
    "\n",
    "#var_x = var_x  + 1\n",
    "var_x += 1\n",
    "\n",
    "print(var_x) \n",
    "\n",
    "var_x = 1\n",
    "var_x += 10; print(var_x)   # 더하기\n",
    "var_x -= 1; print(var_x)    # 빼기\n",
    "var_x *= 2; print(var_x)    # 곱하기 \n",
    "var_x /= 2; print(var_x)    # 나누기\n",
    "var_x //= 2; print(var_x)   # 몫\n",
    "var_x %= 2; print(var_x)    # 나머지\n",
    "var_x **= 2; print(var_x)   # 거듭제곱 \n"
   ]
  },
  {
   "cell_type": "markdown",
   "id": "ba99bafb",
   "metadata": {},
   "source": [
    "연산의 중첩 \n",
    "-\t여러 연산을 조합 및 중첩하여 수행할 수 있음 \n",
    "연산의 우선순위 \n",
    "-\t연산자 우선순위에 따라 연산이 수행됨 \n",
    "-\t연산자 우선순위는 수학에서와 동일 (괄호 사용하여 우선순위 명확히 ) \n"
   ]
  },
  {
   "cell_type": "code",
   "execution_count": 22,
   "id": "1017ee9e",
   "metadata": {},
   "outputs": [
    {
     "name": "stdout",
     "output_type": "stream",
     "text": [
      "13\n",
      "256\n",
      "True\n",
      "False\n",
      "False\n"
     ]
    }
   ],
   "source": [
    "print(2**3+5) # # 2의 3제곱에 5를 더한 결과를 출력\n",
    "print(2**(3+5)) # 2의 3+5제곱을 출력\n",
    "print(2+3<=4+5) #  2+3이 4*5보다 작거나 같은지를 출력\n",
    "print(not 2+3 <= 4*5 ) # 2+3이 4*5보다 작거나 같지 않은지를 출력\n",
    "print(not ((2+3) <= (4*5))) # 2+3이  4*5보다 작거나 같지 않은지를 출력\n"
   ]
  },
  {
   "cell_type": "markdown",
   "id": "91a9a3db",
   "metadata": {},
   "source": [
    "예제 1: 하나라도 결석하면 \"non-pass\"\n",
    "(→ 전부 출석해야만 \"pass\")\n"
   ]
  },
  {
   "cell_type": "code",
   "execution_count": 23,
   "id": "25307ed8",
   "metadata": {},
   "outputs": [
    {
     "name": "stdout",
     "output_type": "stream",
     "text": [
      "pass\n"
     ]
    }
   ],
   "source": [
    "# True = 출석, False = 결석\n",
    "var_d1 = True\n",
    "var_d2 = True\n",
    "var_d3 = True\n",
    "var_d4 = False\n",
    "\n",
    "# True일 때 \"non-pass\", False일 때 \"pass\"를 반환하는 딕셔너리 설정\n",
    "grade_dict = {True: \"non-pass\", False: \"pass\"}\n",
    "\n",
    "# 출석이 하나라도 False이면 전체 and 결과가 False\n",
    "result = var_d1 and var_d2 and var_d3 and var_d4\n",
    "\n",
    "# 논리 연산 결과(True/False)를 딕셔너리에서 불러와 출력\n",
    "print(grade_dict[result])\n"
   ]
  },
  {
   "cell_type": "markdown",
   "id": "7b54bd28",
   "metadata": {},
   "source": [
    "설명\n",
    "•\tand는 모두 True여야 True가 됨\n",
    "•\t하나라도 결석이면 False → \"pass\"\n",
    "•\t전부 출석이면 True → \"non-pass\"\n",
    "•\t딕셔너리를 통해 문자로 치환\n"
   ]
  },
  {
   "cell_type": "markdown",
   "id": "d6f6e586",
   "metadata": {},
   "source": [
    "예제 2: 전부 결석해야 \"non-pass\"\n",
    "(→ 하나라도 출석하면 \"pass\")\n"
   ]
  },
  {
   "cell_type": "code",
   "execution_count": 24,
   "id": "109a7aa7",
   "metadata": {},
   "outputs": [
    {
     "name": "stdout",
     "output_type": "stream",
     "text": [
      "non-pass\n"
     ]
    }
   ],
   "source": [
    "# True = 출석, False = 결석\n",
    "var_d1 = False\n",
    "var_d2 = False\n",
    "var_d3 = False\n",
    "var_d4 = False\n",
    "\n",
    "# True일 때 \"non-pass\", False일 때 \"pass\"를 반환하는 딕셔너리 설정\n",
    "grade_dict = {True: \"non-pass\", False: \"pass\"}\n",
    "\n",
    "# 하나라도 출석(True)이 있으면 or 결과는 True → not → False\n",
    "# 전부 결석이어야 not(or(...))이 True가 됨\n",
    "result = not (var_d1 or var_d2 or var_d3 or var_d4)\n",
    "\n",
    "# 논리 연산 결과를 딕셔너리에서 불러와 출력\n",
    "print(grade_dict[result])\n"
   ]
  },
  {
   "cell_type": "markdown",
   "id": "4c5adad4",
   "metadata": {},
   "source": [
    "설명\n",
    "•\tor는 하나라도 True(출석)이면 True가 됨\n",
    "•\tnot을 붙이면 → 전부 결석해야 True가 됨\n",
    "•\t전부 결석 → \"non-pass\"\n",
    "•\t하나라도 출석 → \"pass\"\n",
    "\n"
   ]
  },
  {
   "cell_type": "markdown",
   "id": "7096c0da",
   "metadata": {},
   "source": []
  }
 ],
 "metadata": {
  "kernelspec": {
   "display_name": "base",
   "language": "python",
   "name": "python3"
  },
  "language_info": {
   "codemirror_mode": {
    "name": "ipython",
    "version": 3
   },
   "file_extension": ".py",
   "mimetype": "text/x-python",
   "name": "python",
   "nbconvert_exporter": "python",
   "pygments_lexer": "ipython3",
   "version": "3.12.9"
  }
 },
 "nbformat": 4,
 "nbformat_minor": 5
}
