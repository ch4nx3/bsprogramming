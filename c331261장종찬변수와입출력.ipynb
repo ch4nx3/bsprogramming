{
 "cells": [
  {
   "cell_type": "markdown",
   "metadata": {},
   "source": [
    "C331261 장종찬\n",
    "1. 변수의 선언과 입출력 \n",
    " - 변수의 생성 \n",
    "    할당연산자 = 기호 사용하여 선언 \n",
    "    변수명 = 데이터 \n",
    "        데이터는 메모리에 기록, 변수명은 데이터를 가리키는 주소 저장 \n",
    " "
   ]
  },
  {
   "cell_type": "code",
   "execution_count": 66,
   "metadata": {},
   "outputs": [
    {
     "name": "stdout",
     "output_type": "stream",
     "text": [
      "경영학\n",
      "1638846736992\n"
     ]
    }
   ],
   "source": [
    "# 변수 var_x = '경영학'을 저장 \n",
    "var_x = '경영학'\n",
    "\n",
    "# 변수 var_x에 저장된 데이터를 출력\n",
    "print(var_x) \n",
    "\n",
    "#변수 var_x의 메모리 주소를 출력 \n",
    "print(id(var_x))"
   ]
  },
  {
   "cell_type": "code",
   "execution_count": 67,
   "metadata": {},
   "outputs": [
    {
     "name": "stdout",
     "output_type": "stream",
     "text": [
      "경영학과\n",
      "1638860104656\n"
     ]
    }
   ],
   "source": [
    "# 변수 var_x를 문자열 데이터 '경영학과'로 수정 \n",
    "var_x = '경영학과'\n",
    "\n",
    "print(var_x)\n",
    "print(id(var_x))"
   ]
  },
  {
   "cell_type": "markdown",
   "metadata": {},
   "source": [
    " - 새로운 데이터의 주소로 변경된 메모리 주소 출력됨. "
   ]
  },
  {
   "cell_type": "code",
   "execution_count": 68,
   "metadata": {},
   "outputs": [
    {
     "name": "stdout",
     "output_type": "stream",
     "text": [
      "산업데이터공학과\n",
      "1638829466816\n"
     ]
    }
   ],
   "source": [
    "#변수 var_y에 문자열 데이터 '산업데이터공학과'를 저장 \n",
    "var_y = '산업데이터공학과'\n",
    "\n",
    "print(var_y)\n",
    "print(id(var_y))"
   ]
  },
  {
   "cell_type": "markdown",
   "metadata": {},
   "source": [
    "현재 사용 중인 변수 확인 \n",
    " - 매직 명령어는 ipython 에서 제공하는 특수한 명령어 \n",
    " - %로 시작하는 한 줄의 명령어 \n"
   ]
  },
  {
   "cell_type": "code",
   "execution_count": 69,
   "metadata": {},
   "outputs": [
    {
     "data": {
      "application/json": {
       "cell": {
        "!": "OSMagics",
        "HTML": "Other",
        "SVG": "Other",
        "bash": "Other",
        "capture": "ExecutionMagics",
        "cmd": "Other",
        "code_wrap": "ExecutionMagics",
        "debug": "ExecutionMagics",
        "file": "Other",
        "html": "DisplayMagics",
        "javascript": "DisplayMagics",
        "js": "DisplayMagics",
        "latex": "DisplayMagics",
        "markdown": "DisplayMagics",
        "perl": "Other",
        "prun": "ExecutionMagics",
        "pypy": "Other",
        "python": "Other",
        "python2": "Other",
        "python3": "Other",
        "ruby": "Other",
        "script": "ScriptMagics",
        "sh": "Other",
        "svg": "DisplayMagics",
        "sx": "OSMagics",
        "system": "OSMagics",
        "time": "ExecutionMagics",
        "timeit": "ExecutionMagics",
        "writefile": "OSMagics"
       },
       "line": {
        "alias": "OSMagics",
        "alias_magic": "BasicMagics",
        "autoawait": "AsyncMagics",
        "autocall": "AutoMagics",
        "automagic": "AutoMagics",
        "autosave": "KernelMagics",
        "bookmark": "OSMagics",
        "cd": "OSMagics",
        "clear": "KernelMagics",
        "cls": "KernelMagics",
        "code_wrap": "ExecutionMagics",
        "colors": "BasicMagics",
        "conda": "PackagingMagics",
        "config": "ConfigMagics",
        "connect_info": "KernelMagics",
        "copy": "Other",
        "ddir": "Other",
        "debug": "ExecutionMagics",
        "dhist": "OSMagics",
        "dirs": "OSMagics",
        "doctest_mode": "BasicMagics",
        "echo": "Other",
        "ed": "Other",
        "edit": "KernelMagics",
        "env": "OSMagics",
        "gui": "BasicMagics",
        "hist": "Other",
        "history": "HistoryMagics",
        "killbgscripts": "ScriptMagics",
        "ldir": "Other",
        "less": "KernelMagics",
        "load": "CodeMagics",
        "load_ext": "ExtensionMagics",
        "loadpy": "CodeMagics",
        "logoff": "LoggingMagics",
        "logon": "LoggingMagics",
        "logstart": "LoggingMagics",
        "logstate": "LoggingMagics",
        "logstop": "LoggingMagics",
        "ls": "Other",
        "lsmagic": "BasicMagics",
        "macro": "ExecutionMagics",
        "magic": "BasicMagics",
        "mamba": "PackagingMagics",
        "matplotlib": "PylabMagics",
        "micromamba": "PackagingMagics",
        "mkdir": "Other",
        "more": "KernelMagics",
        "notebook": "BasicMagics",
        "page": "BasicMagics",
        "pastebin": "CodeMagics",
        "pdb": "ExecutionMagics",
        "pdef": "NamespaceMagics",
        "pdoc": "NamespaceMagics",
        "pfile": "NamespaceMagics",
        "pinfo": "NamespaceMagics",
        "pinfo2": "NamespaceMagics",
        "pip": "PackagingMagics",
        "popd": "OSMagics",
        "pprint": "BasicMagics",
        "precision": "BasicMagics",
        "prun": "ExecutionMagics",
        "psearch": "NamespaceMagics",
        "psource": "NamespaceMagics",
        "pushd": "OSMagics",
        "pwd": "OSMagics",
        "pycat": "OSMagics",
        "pylab": "PylabMagics",
        "qtconsole": "KernelMagics",
        "quickref": "BasicMagics",
        "recall": "HistoryMagics",
        "rehashx": "OSMagics",
        "reload_ext": "ExtensionMagics",
        "ren": "Other",
        "rep": "Other",
        "rerun": "HistoryMagics",
        "reset": "NamespaceMagics",
        "reset_selective": "NamespaceMagics",
        "rmdir": "Other",
        "run": "ExecutionMagics",
        "save": "CodeMagics",
        "sc": "OSMagics",
        "set_env": "OSMagics",
        "store": "StoreMagics",
        "sx": "OSMagics",
        "system": "OSMagics",
        "tb": "ExecutionMagics",
        "time": "ExecutionMagics",
        "timeit": "ExecutionMagics",
        "unalias": "OSMagics",
        "unload_ext": "ExtensionMagics",
        "uv": "PackagingMagics",
        "who": "NamespaceMagics",
        "who_ls": "NamespaceMagics",
        "whos": "NamespaceMagics",
        "xdel": "NamespaceMagics",
        "xmode": "BasicMagics"
       }
      },
      "text/plain": [
       "Available line magics:\n",
       "%alias  %alias_magic  %autoawait  %autocall  %automagic  %autosave  %bookmark  %cd  %clear  %cls  %code_wrap  %colors  %conda  %config  %connect_info  %copy  %ddir  %debug  %dhist  %dirs  %doctest_mode  %echo  %ed  %edit  %env  %gui  %hist  %history  %killbgscripts  %ldir  %less  %load  %load_ext  %loadpy  %logoff  %logon  %logstart  %logstate  %logstop  %ls  %lsmagic  %macro  %magic  %mamba  %matplotlib  %micromamba  %mkdir  %more  %notebook  %page  %pastebin  %pdb  %pdef  %pdoc  %pfile  %pinfo  %pinfo2  %pip  %popd  %pprint  %precision  %prun  %psearch  %psource  %pushd  %pwd  %pycat  %pylab  %qtconsole  %quickref  %recall  %rehashx  %reload_ext  %ren  %rep  %rerun  %reset  %reset_selective  %rmdir  %run  %save  %sc  %set_env  %store  %sx  %system  %tb  %time  %timeit  %unalias  %unload_ext  %uv  %who  %who_ls  %whos  %xdel  %xmode\n",
       "\n",
       "Available cell magics:\n",
       "%%!  %%HTML  %%SVG  %%bash  %%capture  %%cmd  %%code_wrap  %%debug  %%file  %%html  %%javascript  %%js  %%latex  %%markdown  %%perl  %%prun  %%pypy  %%python  %%python2  %%python3  %%ruby  %%script  %%sh  %%svg  %%sx  %%system  %%time  %%timeit  %%writefile\n",
       "\n",
       "Automagic is ON, % prefix IS NOT needed for line magics."
      ]
     },
     "execution_count": 69,
     "metadata": {},
     "output_type": "execute_result"
    }
   ],
   "source": [
    "#매직명령어\n",
    "%lsmagic"
   ]
  },
  {
   "cell_type": "code",
   "execution_count": 70,
   "metadata": {},
   "outputs": [
    {
     "data": {
      "text/plain": [
       "'c:\\\\Users\\\\장종찬\\\\Documents\\\\bs PROGRAMMING'"
      ]
     },
     "execution_count": 70,
     "metadata": {},
     "output_type": "execute_result"
    }
   ],
   "source": [
    "#현재 디렉토리 확인\n",
    "%pwd"
   ]
  },
  {
   "cell_type": "code",
   "execution_count": 71,
   "metadata": {},
   "outputs": [
    {
     "name": "stdout",
     "output_type": "stream",
     "text": [
      " C ����̺��� �������� �̸��� �����ϴ�.\n",
      " ���� �Ϸ� ��ȣ: C235-A037\n",
      "\n",
      " c:\\Users\\������\\Documents\\bs PROGRAMMING ���͸�\n",
      "\n",
      "2025-04-03  ���� 11:09    <DIR>          .\n",
      "2025-04-03  ���� 11:09    <DIR>          ..\n",
      "2025-04-03  ���� 11:16               841 bsproject.ipynb\n",
      "               1�� ����                 841 ����Ʈ\n",
      "               2�� ���͸�  238,796,128,256 ����Ʈ ����\n"
     ]
    }
   ],
   "source": [
    "#현재 디렉토리의 파일 목록 확인\n",
    "%ls"
   ]
  },
  {
   "cell_type": "code",
   "execution_count": 72,
   "metadata": {},
   "outputs": [
    {
     "name": "stdout",
     "output_type": "stream",
     "text": [
      "builtins\t debugpy\t file\t ipykernel\t var_a1\t var_a2\t var_a3\t var_x\t var_y\t \n",
      "\n"
     ]
    }
   ],
   "source": [
    "#현재 커널에서 사용 중인 변수 목록\n",
    "%who \n"
   ]
  },
  {
   "cell_type": "code",
   "execution_count": 73,
   "metadata": {},
   "outputs": [
    {
     "name": "stdout",
     "output_type": "stream",
     "text": [
      "Variable    Type      Data/Info\n",
      "-------------------------------\n",
      "builtins    module    <module 'builtins' (built-in)>\n",
      "debugpy     module    <module 'debugpy' from 'c<...>s\\\\debugpy\\\\__init__.py'>\n",
      "file        str       C:\\Users\\장종찬\\AppData\\Loca<...>ernel_17040\\2015259992.py\n",
      "ipykernel   module    <module 'ipykernel' from <...>\\ipykernel\\\\__init__.py'>\n",
      "var_a1      str       장종찬\n",
      "var_a2      float     5.08\n",
      "var_a3      int       2004\n",
      "var_x       str       경영학과\n",
      "var_y       str       산업데이터공학과\n"
     ]
    }
   ],
   "source": [
    "#현재 커널에서 사용 중인 변수 목록, 데이터 타입, 값\n",
    "%whos"
   ]
  },
  {
   "cell_type": "markdown",
   "metadata": {},
   "source": [
    "변수의 삭제 \n",
    " - del 명령어를 사용하여 변수를 삭제 "
   ]
  },
  {
   "cell_type": "code",
   "execution_count": 74,
   "metadata": {},
   "outputs": [
    {
     "name": "stdout",
     "output_type": "stream",
     "text": [
      "Variable    Type      Data/Info\n",
      "-------------------------------\n",
      "builtins    module    <module 'builtins' (built-in)>\n",
      "debugpy     module    <module 'debugpy' from 'c<...>s\\\\debugpy\\\\__init__.py'>\n",
      "file        str       C:\\Users\\장종찬\\AppData\\Loca<...>ernel_17040\\2015259992.py\n",
      "ipykernel   module    <module 'ipykernel' from <...>\\ipykernel\\\\__init__.py'>\n",
      "var_a1      str       장종찬\n",
      "var_a2      float     5.08\n",
      "var_a3      int       2004\n",
      "var_x       str       경영학과\n",
      "var_y       str       산업데이터공학과\n",
      "var_z1      int       123\n",
      "var_z2      list      n=5\n"
     ]
    }
   ],
   "source": [
    "var_z1 = 123\n",
    "var_z2 = [1,2,3,4,5]\n",
    "\n",
    "%whos \n"
   ]
  },
  {
   "cell_type": "code",
   "execution_count": 75,
   "metadata": {},
   "outputs": [
    {
     "name": "stdout",
     "output_type": "stream",
     "text": [
      "Variable    Type      Data/Info\n",
      "-------------------------------\n",
      "builtins    module    <module 'builtins' (built-in)>\n",
      "debugpy     module    <module 'debugpy' from 'c<...>s\\\\debugpy\\\\__init__.py'>\n",
      "file        str       C:\\Users\\장종찬\\AppData\\Loca<...>ernel_17040\\2015259992.py\n",
      "ipykernel   module    <module 'ipykernel' from <...>\\ipykernel\\\\__init__.py'>\n",
      "var_a1      str       장종찬\n",
      "var_a2      float     5.08\n",
      "var_a3      int       2004\n",
      "var_y       str       산업데이터공학과\n",
      "var_z1      int       123\n",
      "var_z2      list      n=5\n"
     ]
    }
   ],
   "source": [
    "#변수 var_x를 삭제 \n",
    "del var_x\n",
    "\n",
    "#변수 var_x가 삭제되었는지 확인 \n",
    "%whos"
   ]
  },
  {
   "cell_type": "markdown",
   "metadata": {},
   "source": [
    " - 변수 var_x가 삭제된 것을 확인 "
   ]
  },
  {
   "cell_type": "code",
   "execution_count": 76,
   "metadata": {},
   "outputs": [
    {
     "name": "stdout",
     "output_type": "stream",
     "text": [
      "Variable    Type      Data/Info\n",
      "-------------------------------\n",
      "builtins    module    <module 'builtins' (built-in)>\n",
      "debugpy     module    <module 'debugpy' from 'c<...>s\\\\debugpy\\\\__init__.py'>\n",
      "file        str       C:\\Users\\장종찬\\AppData\\Loca<...>ernel_17040\\2015259992.py\n",
      "ipykernel   module    <module 'ipykernel' from <...>\\ipykernel\\\\__init__.py'>\n",
      "var_a1      str       장종찬\n",
      "var_a2      float     5.08\n",
      "var_a3      int       2004\n"
     ]
    }
   ],
   "source": [
    "#나머지 변수들을 삭제 \n",
    "del  var_y, var_z1, var_z2\n",
    "\n",
    "#모든 변수가 삭제되었는지 확인 \n",
    "%whos "
   ]
  },
  {
   "cell_type": "markdown",
   "metadata": {},
   "source": [
    "# **데이터의 입출력**\n",
    " - 콘솔 입출력  \n",
    "    - 콘솔: 키보드로 입력한 내용을 화면에 출력하고, 화면에 출력된 내용을 키보드로 입력받는 도구 \n",
    "\n",
    "input()함수 \n",
    " - input() 함수는 문자열로 사용자 입력을 받는 함수 \n",
    "\n",
    " *함수* \n",
    " - 함수(function)는 특정 기능을 수행하는 코드블록\n",
    " - 함수는 입력값을 받아 결과값을 받환하는 역할을 함 \n",
    "    - 함수는 함수명(입력값) 형태로 호출\n",
    "    - 결과값은 변수명 = 함수명(입력값) 형태로 저장 가능 \n"
   ]
  },
  {
   "cell_type": "code",
   "execution_count": 77,
   "metadata": {},
   "outputs": [],
   "source": [
    "# 변수 var_x에 저장된 데이터를 출력 \n",
    "var_x = input('데이터를 입력하세요: ')"
   ]
  },
  {
   "cell_type": "code",
   "execution_count": 78,
   "metadata": {},
   "outputs": [
    {
     "name": "stdout",
     "output_type": "stream",
     "text": [
      " var_x = 'ㅎ'\n",
      "type(var_x) = <class 'str'>\n"
     ]
    }
   ],
   "source": [
    "#변수 var_x에 저장된 데이터를 출력\n",
    "print(f' {var_x = }')\n",
    "\n",
    "#변수 var_x의 데이터 타입을 출력 \n",
    "print(f'{type(var_x) = }')"
   ]
  },
  {
   "cell_type": "code",
   "execution_count": 79,
   "metadata": {},
   "outputs": [
    {
     "name": "stdout",
     "output_type": "stream",
     "text": [
      "1\n",
      "<class 'int'>\n"
     ]
    }
   ],
   "source": [
    "#사용자로부터 데이터를 입력받아 정수형으로 변환한 후, 변수 var_y에 저장 \n",
    "var_y = int(input('숫자를 입력하세요:'))\n",
    "\n",
    "#변수 var_y에 저장된 데이터를 출력\n",
    "print(var_y)\n",
    "\n",
    "# 변수 var_y의 데이터 타입을 출력\n",
    "print(type(var_y))\n",
    "\n"
   ]
  },
  {
   "cell_type": "markdown",
   "metadata": {},
   "source": [
    "print()함수 \n",
    "- print(데이터) 함수는 괄호 안에 있는 내용을 출력 \n",
    "- 다양한 형태의 데이터를 출력할 수 있음 \n",
    "    - print(데이터1, end='문자열')\n",
    "    - print(데이터, sep'문자열')\n",
    "    "
   ]
  },
  {
   "cell_type": "code",
   "execution_count": 80,
   "metadata": {},
   "outputs": [
    {
     "name": "stdout",
     "output_type": "stream",
     "text": [
      "10\n",
      "10 경영학과 3.14 True\n",
      "10|경영학과|3.14|True\n",
      "10|경영학과|3.14|True\t*************\n"
     ]
    }
   ],
   "source": [
    "print(10)\n",
    "print(10, '경영학과', 3.14, True)\n",
    "print(10, '경영학과', 3.14, True, sep='|')\n",
    "print(10, '경영학과', 3.14, True, sep='|', end='\\t*************\\n')"
   ]
  },
  {
   "cell_type": "markdown",
   "metadata": {},
   "source": [
    "이스케이프 문자 \n",
    "- 특수한 문자 출력 및 특수한 동작 하도록 함 \n",
    "    - \\n: 줄바꿈\n",
    "    - \\t: 탭 \n",
    "    - \\\\: \\출력\n",
    "    - \\' : ' 출력\n"
   ]
  },
  {
   "cell_type": "code",
   "execution_count": 81,
   "metadata": {},
   "outputs": [
    {
     "name": "stdout",
     "output_type": "stream",
     "text": [
      "이름: 홍길동\n",
      "학번 : 20210000\n",
      "학과 : 경영학과\n"
     ]
    }
   ],
   "source": [
    "# 줄바꿈 적용 \n",
    "print('이름: 홍길동\\n학번 : 20210000\\n학과 : 경영학과')"
   ]
  },
  {
   "cell_type": "code",
   "execution_count": 82,
   "metadata": {},
   "outputs": [
    {
     "name": "stdout",
     "output_type": "stream",
     "text": [
      "이름\t학번\t\t학과\n",
      "홍길동\t20210000\t경영학과\n",
      "종찬\t20210001\t경영학과\n"
     ]
    }
   ],
   "source": [
    "#탭 적용 \n",
    "print('이름\\t학번\\t\\t학과')\n",
    "print('홍길동\\t20210000\\t경영학과')\n",
    "print('종찬\\t20210001\\t경영학과')"
   ]
  },
  {
   "cell_type": "markdown",
   "metadata": {},
   "source": [
    "f-string\n",
    "- f-string 은 문자열 앞에 f를 붙이고, 중괄호 안에 변수명을 넣어서 사용\n",
    "    - f'{변수명}' : 변수의 값 출력\n",
    "    - f'{변수명= }': 변수의 값과 변수명 출력"
   ]
  },
  {
   "cell_type": "code",
   "execution_count": 83,
   "metadata": {},
   "outputs": [
    {
     "name": "stdout",
     "output_type": "stream",
     "text": [
      "54321\n",
      "---------------\n",
      "var_y = 54321\n",
      "---------------\n",
      "var_y = 54321\n"
     ]
    }
   ],
   "source": [
    "var_y=54321 #변수 var_y에 정수형 데이터 54321을 저장\n",
    "\n",
    "#변수 var_y에 저장된 데이터를 출력\n",
    "print(f'{var_y}', end='\\n---------------\\n')\n",
    "\n",
    "#변수 var_y에 저장된 데이터를 출력\n",
    "print(f'{var_y = }',end='\\n---------------\\n')\n",
    "\n",
    "#변수 var_y에 저장된 데이터를 출력\n",
    "print(f'var_y = {var_y}')"
   ]
  },
  {
   "cell_type": "markdown",
   "metadata": {},
   "source": [
    "f'{변수명: 서식}: 서식 지정\n",
    "- 정렬기호: 없음-왼쪽, ^가운데, >-오른쪽\n",
    "- 서식지정자: 문자열-s, 정수-d, 실수-f\n",
    "- 소수점 자릿수 지정: 구분자(:) 오른편에. 자릿수 f를 사용"
   ]
  },
  {
   "cell_type": "code",
   "execution_count": 84,
   "metadata": {},
   "outputs": [
    {
     "name": "stdout",
     "output_type": "stream",
     "text": [
      "var_x는 정수형이므로 d를 사용하여야 하고, 54321입니다.\n",
      "var_x를 총 20개의 자리에 표현하면,                54321입니다.\n",
      "var_x를 총 20개의 자리에 왼쪽 정렬하여 표현하면, 54321               입니다.\n",
      "var_y는 실수형이므로 f를 사용하여야 하고, 54321.123457입니다.\n",
      "var_y를 정수만 출력하면 54321입니다.\n",
      "var_y를 소수점 5자리까지 출력하면 54321.12346입니다.\n",
      "var_y를 20자리에 가운데 정렬하여 소수점 3자리까지 출력하면      54321.123      입니다.\n"
     ]
    }
   ],
   "source": [
    "var_x=54321\n",
    "var_y=54321.123456789\n",
    "print(f'var_x는 정수형이므로 d를 사용하여야 하고, {var_x:d}입니다.')\n",
    "print(f'var_x를 총 20개의 자리에 표현하면, {var_x:20d}입니다.')\n",
    "print(f'var_x를 총 20개의 자리에 왼쪽 정렬하여 표현하면, {var_x:<20d}입니다.')\n",
    "print(f'var_y는 실수형이므로 f를 사용하여야 하고, {var_y:f}입니다.')\n",
    "print(f'var_y를 정수만 출력하면 {var_y:.0f}입니다.')\n",
    "print(f'var_y를 소수점 5자리까지 출력하면 {var_y:.5f}입니다.')\n",
    "print(f'var_y를 20자리에 가운데 정렬하여 소수점 3자리까지 출력하면 {var_y:^20.3f}입니다.')\n"
   ]
  },
  {
   "cell_type": "markdown",
   "metadata": {},
   "source": [
    "응용\n",
    "- 자의 이름과 생일 정보를 인풋 함수와 실수형을 응용하여 나타내기 \n"
   ]
  },
  {
   "cell_type": "code",
   "execution_count": 85,
   "metadata": {},
   "outputs": [],
   "source": [
    "#사용자로부터 이름정보를 입력받아 변수 var_a1에 저장\n",
    "var_a1= input('이름을 입력하세요:') \n"
   ]
  },
  {
   "cell_type": "code",
   "execution_count": 86,
   "metadata": {},
   "outputs": [],
   "source": [
    "#사용자로부터 생년정보를 입력받아 변수 var_a3에 저장 \n",
    "var_a3= int(input('생년을 입력하세요'))"
   ]
  },
  {
   "cell_type": "code",
   "execution_count": 87,
   "metadata": {},
   "outputs": [],
   "source": [
    "#사용자로부터 생일정보를 입력받아 변수 var_a2에 저장, 실수이므로 float으로 작성 \n",
    "\n",
    "var_a2= float(input('생일을 입력하세요'))"
   ]
  },
  {
   "cell_type": "code",
   "execution_count": 88,
   "metadata": {},
   "outputs": [
    {
     "name": "stdout",
     "output_type": "stream",
     "text": [
      " 이름: 장종찬  \n",
      " 생년: 1966 \n",
      " 생일: 8.17\n"
     ]
    }
   ],
   "source": [
    "#이름은 문자열이므로 서식지정자 s사용 \n",
    "print(f' 이름: {var_a1:<5s}')\n",
    "\n",
    "#생년은 정수이므로 서식지정자 d사용\n",
    "print(f' 생년: {var_a3:<5d}')\n",
    "\n",
    "#생일은 실수이므로 서식지정자 f사용, 00.00 또는 0.00형태이므로 두자리 까지만 나타냄 \n",
    "print(f' 생일: {var_a2:.2f}')"
   ]
  }
 ],
 "metadata": {
  "kernelspec": {
   "display_name": "base",
   "language": "python",
   "name": "python3"
  },
  "language_info": {
   "codemirror_mode": {
    "name": "ipython",
    "version": 3
   },
   "file_extension": ".py",
   "mimetype": "text/x-python",
   "name": "python",
   "nbconvert_exporter": "python",
   "pygments_lexer": "ipython3",
   "version": "3.12.9"
  }
 },
 "nbformat": 4,
 "nbformat_minor": 2
}
