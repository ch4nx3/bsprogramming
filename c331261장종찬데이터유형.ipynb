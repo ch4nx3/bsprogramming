{
 "cells": [
  {
   "cell_type": "markdown",
   "id": "5f134294",
   "metadata": {},
   "source": [
    "비즈니스 프로그래밍_과제1번_홍익대학교_c331261_장종찬\n",
    "\n",
    "C331261장종찬 \n",
    "데이터의 유형 \n",
    "데이터 유형의 종류\n",
    "-\t숫자, 문자열, 리스트, 튜플, 딕셔너리, 집합, 불린, none \n",
    "파이썬은 동적타입언어 \n",
    "-\t변수의 타입을 미리 선언하지 않음 \n",
    "*데이터 유형의 확인*\n",
    "- 변수에 데이터를 배정(assignment)하고 유형 확인 \n"
   ]
  },
  {
   "cell_type": "code",
   "execution_count": 1,
   "id": "48a831f9",
   "metadata": {},
   "outputs": [
    {
     "name": "stdout",
     "output_type": "stream",
     "text": [
      " 12345= \n",
      " type(x_value) = <class 'int'>\n"
     ]
    }
   ],
   "source": [
    "# x_value에 정수 12345를 할당\n",
    "x_value = 12345\n",
    "\n",
    "# x_value의 값과 자료형을 출력\n",
    "print (f' {x_value}= \\n {type(x_value) = }')\n",
    "#x value의 유형은 클래스(class) int'임. 즉, 객체(object)임\n",
    "\n",
    "\n"
   ]
  },
  {
   "cell_type": "code",
   "execution_count": 2,
   "id": "42b3faa5",
   "metadata": {},
   "outputs": [
    {
     "name": "stdout",
     "output_type": "stream",
     "text": [
      "abcde\n",
      "type(x_str) = <class 'str'>\n"
     ]
    }
   ],
   "source": [
    "x_str = 'abcde'\n",
    "\n",
    " # x str의 값과 자료형을 출력\n",
    "print (f'{x_str}\\n{type(x_str) = }')\n"
   ]
  },
  {
   "cell_type": "code",
   "execution_count": 3,
   "id": "9533b8e6",
   "metadata": {},
   "outputs": [
    {
     "name": "stdout",
     "output_type": "stream",
     "text": [
      "x_list = ['abcde', 12345]\n",
      "type(x_list) = <class 'list'>\n"
     ]
    }
   ],
   "source": [
    "# x List에 x str과 x value를 원소로 갖는 리스트를 할당\n",
    "x_list = [x_str, x_value]\n",
    "\n",
    " # x List의 값과 자료형을 출력\n",
    "print(f'{x_list = }\\n{type(x_list) = }')\n",
    "\n",
    "\n"
   ]
  },
  {
   "cell_type": "code",
   "execution_count": 4,
   "id": "9aeed6e0",
   "metadata": {},
   "outputs": [
    {
     "name": "stdout",
     "output_type": "stream",
     "text": [
      "x_tuple = ('abcde', 12345)\n",
      "type(x_tuple) = <class 'tuple'>\n"
     ]
    }
   ],
   "source": [
    "# x tuple에 x str과 x value를 원소로 갖는 튜플을 할당\n",
    "x_tuple = (x_str, x_value)\n",
    "\n",
    "# x tuple의 값과 자료형을 출력\n",
    "print(f'{x_tuple = }\\n{type(x_tuple) = }')\n",
    "\n",
    "\n"
   ]
  },
  {
   "cell_type": "code",
   "execution_count": 5,
   "id": "0ce8ca42",
   "metadata": {},
   "outputs": [
    {
     "name": "stdout",
     "output_type": "stream",
     "text": [
      "x_dict = {'name': 'Chunghun Ha', 'id': 67890}\n",
      "type(x_dict) = <class 'dict'>\n"
     ]
    }
   ],
   "source": [
    "# x_dict에 key가 'name'과 ' id” 이고 value가 ' Chunghun Ha'와 67898인 딕셔너리를 할당\n",
    "x_dict = {'name':'Chunghun Ha', 'id' :67890}\n",
    "\n",
    " # x dict의 값과 자료형을 출력\n",
    "print(f'{x_dict = }\\n{type(x_dict) = }')\n"
   ]
  },
  {
   "cell_type": "code",
   "execution_count": 6,
   "id": "0afe8034",
   "metadata": {},
   "outputs": [
    {
     "name": "stdout",
     "output_type": "stream",
     "text": [
      " x_none = None \n",
      "type(x_none) = <class 'NoneType'>\n"
     ]
    }
   ],
   "source": [
    "# x_none에 None을 할당\n",
    "x_none = None \n",
    "\n",
    "# x_none의 값과 자료형을 출력\n",
    "print(f' {x_none = } \\n{type(x_none) = }')\n"
   ]
  },
  {
   "cell_type": "markdown",
   "id": "d67763d6",
   "metadata": {},
   "source": [
    "*변수는 객체* \n",
    "- 파이썬에서는 모든 것이 객체 \n",
    "\t- 객체는 속성(attribute)과 메소드(method)를 모아놓은 하나의 덩어리 \n",
    "- 객체는 클래스의 인스턴스로 생성하여 사용함 \n",
    "\t- 변수는 데이터가 배정될 때, 인스턴스가 생성됨. \n",
    "\n",
    "객체: 실제로 존재하는 것, 자신만의 속성과 동작을 갖는 데이터 타입 \n",
    "인스턴스: 클래스로부터 만들어진 객체를 그 클래스의 인스턴스라고 함 \n",
    "클래스: 객체를 정의해 놓은 것. 새로운 객체를 만들기 위한 템플릿. \n",
    "\n",
    "-\t클래스 -> 인스턴스화 -> 인스턴스 \n",
    "\n",
    "\n",
    "-\t객체의 속성과 메소드를 출력 \n"
   ]
  },
  {
   "cell_type": "code",
   "execution_count": 7,
   "id": "4c79b7ab",
   "metadata": {},
   "outputs": [
    {
     "name": "stdout",
     "output_type": "stream",
     "text": [
      "['__abs__', '__add__', '__and__', '__bool__', '__ceil__', '__class__', '__delattr__', '__dir__', '__divmod__', '__doc__', '__eq__', '__float__', '__floor__', '__floordiv__', '__format__', '__ge__', '__getattribute__', '__getnewargs__', '__getstate__', '__gt__', '__hash__', '__index__', '__init__', '__init_subclass__', '__int__', '__invert__', '__le__', '__lshift__', '__lt__', '__mod__', '__mul__', '__ne__', '__neg__', '__new__', '__or__', '__pos__', '__pow__', '__radd__', '__rand__', '__rdivmod__', '__reduce__', '__reduce_ex__', '__repr__', '__rfloordiv__', '__rlshift__', '__rmod__', '__rmul__', '__ror__', '__round__', '__rpow__', '__rrshift__', '__rshift__', '__rsub__', '__rtruediv__', '__rxor__', '__setattr__', '__sizeof__', '__str__', '__sub__', '__subclasshook__', '__truediv__', '__trunc__', '__xor__', 'as_integer_ratio', 'bit_count', 'bit_length', 'conjugate', 'denominator', 'from_bytes', 'imag', 'is_integer', 'numerator', 'real', 'to_bytes']\n"
     ]
    }
   ],
   "source": [
    "# x value의 속성과 메소드를 출력\n",
    "print(dir(x_value))\n"
   ]
  },
  {
   "cell_type": "markdown",
   "id": "1b54cef8",
   "metadata": {},
   "source": [
    "-\t객체의 속성과 메서드는 .속성 또는 .메서드()로 호출 가능 \n",
    "\n"
   ]
  },
  {
   "cell_type": "code",
   "execution_count": 8,
   "id": "bb9586bd",
   "metadata": {},
   "outputs": [
    {
     "name": "stdout",
     "output_type": "stream",
     "text": [
      "x_value.real = 12345\n",
      "x_value.bit_length() =14\n"
     ]
    }
   ],
   "source": [
    "\n",
    "# x_value의 실수부(속성)를 출력\n",
    "print(f'{x_value.real = }')\n",
    "# x_value의 비트 수를 계산(메서드)하여 출력\n",
    "print(f'{x_value.bit_length() =}')\n",
    "\n",
    "\n"
   ]
  },
  {
   "cell_type": "markdown",
   "id": "2a94f46b",
   "metadata": {},
   "source": [
    "*mutable과 immutable \n",
    "\n",
    "-\tmutable: 원소의 수정 가능한 자료형\n",
    "리스트(List), 딕셔너리 (Dictionary)\n",
    "-\timmutable: 원소의 수정이 불가능한 자료형\n",
    "문자열(String), 튜플(Tuple)\n"
   ]
  },
  {
   "cell_type": "code",
   "execution_count": 9,
   "id": "dbe66300",
   "metadata": {},
   "outputs": [
    {
     "name": "stdout",
     "output_type": "stream",
     "text": [
      "Before: x_list = ['abcde', 12345]\n",
      "After : x_list = ['abcde', 'fghij']\n",
      "Before: x_dict = {'name': 'Chunghun Ha', 'id': 67890}\n",
      "After : x_dict = {'name': 'Chunghun Ha', 'id': 67890, 'name ': 'Gildong Hong'}\n"
     ]
    }
   ],
   "source": [
    "x_list = ['abcde', 12345]\n",
    "\n",
    " # 원소 변경전 x list의 값을 출력\n",
    "print(f'Before: {x_list = }')\n",
    "\n",
    " # 인덱스 1 원소를 'fghij' 로 변경\n",
    "x_list[1] = 'fghij'\n",
    "  # 원소 변경후 x_list의 값을 출력\n",
    "print(f'After : {x_list = }')\n",
    "\n",
    "#Mutable: 딕셔너리\n",
    "\n",
    "x_dict = {'name': 'Chunghun Ha', 'id' :67890}\n",
    " # 원소 변경전 x_dict의 값을 출력\n",
    "print(f'Before: {x_dict = }')\n",
    "\n",
    " # key가 'name'인 원소를 'Gildong Hong'으로 변경\n",
    "x_dict ['name '] = 'Gildong Hong'\n",
    " # 원소 변경후 x dict의 값을 출력\n",
    "print(f'After : {x_dict = }')\n"
   ]
  },
  {
   "cell_type": "markdown",
   "id": "e6667da5",
   "metadata": {},
   "source": [
    "-\timmutable: 문자열 ->원소 바꾸기 불가 \n",
    "-\ttry~except 구문 \n",
    "\t-python 에서는 에러가 발생하면, 커널중지 \n",
    "\t  에러가 발생해도 커널이 중지 되지 않도록 하려면, try~except 구문을 사용 \n",
    "\t\tTry 블록에서 에러가 발생하면, except 블록을 실행 \n"
   ]
  },
  {
   "cell_type": "code",
   "execution_count": 10,
   "id": "9ad62662",
   "metadata": {},
   "outputs": [
    {
     "name": "stdout",
     "output_type": "stream",
     "text": [
      "Before: x_str = 'abcde'\n",
      "Error : 'str' object does not support item assignment\n",
      "After : x_str= 'abcde'\n"
     ]
    }
   ],
   "source": [
    "x_str = 'abcde'\n",
    "\n",
    " # 원소 변경전 x str의 값을 출력\n",
    "print(f'Before: {x_str = }')\n",
    "\n",
    " # try 블록 안의 코드를 실행하다가 에러가 발생하면 except 블록의 코드를 실행\n",
    "try:\n",
    "    # 인덱스 1 원소를 '2'로 변경. 문자열은 immutable 자료형이므로 에러 발생\n",
    "    x_str[1] = '2'\n",
    "\n",
    "except TypeError as e: # 에러 발생시 에러 메시지를 e에 할당\n",
    "# 에러 메시지 출력\n",
    "    print(f'Error : {e}')\n",
    "\n",
    "\n",
    " # 원소 변경후 x str의 값을 출력\n",
    "print(f'After : {x_str= }')\n",
    "\n"
   ]
  },
  {
   "cell_type": "markdown",
   "id": "0d0a8e92",
   "metadata": {},
   "source": [
    "*immutable: 튜플 -> 원소 바꾸기 불가*"
   ]
  },
  {
   "cell_type": "code",
   "execution_count": 11,
   "id": "221b6589",
   "metadata": {},
   "outputs": [
    {
     "name": "stdout",
     "output_type": "stream",
     "text": [
      "Before: x_tuple = ('abode', 12345)\n",
      "Error : 'tuple' object does not support item assignment\n",
      "After : x_tuple = ('abode', 12345)\n"
     ]
    }
   ],
   "source": [
    "x_tuple = ('abode', 12345)\n",
    " # 원소 변경전 x tuple의 값을 출력\n",
    "print(f'Before: {x_tuple = }')\n",
    "\n",
    "try:\n",
    "\n",
    " # try 블록 안의 코드를 실행하다가 에러가 발생하면 except 블록의 코드를 실행\n",
    "\t# 인덱스 1 원소를 'fghij'로 변경. 튜플은 immutable 자료형이므로 에러 발생\n",
    "\tx_tuple[1] = 'fghij'\n",
    "except TypeError as e:\n",
    "\tprint(f'Error : {e}')\n",
    "\n",
    "\n",
    " # 원소 변경후 x_tuple의 값을 출력\n",
    "print(f'After : {x_tuple = }')\n"
   ]
  },
  {
   "cell_type": "markdown",
   "id": "b7f9bb83",
   "metadata": {},
   "source": [
    "자료형 변환: 데이터의 유형을 변경하는 것. \n",
    "\n",
    "*단일 자료형 변환 함수* \n",
    " - int(): 정수형으로 변환\n",
    " - flaot(): 실수형으로 변환\n",
    " - str(): 문자열로 변환 \n"
   ]
  },
  {
   "cell_type": "code",
   "execution_count": 12,
   "id": "1ab40021",
   "metadata": {},
   "outputs": [
    {
     "name": "stdout",
     "output_type": "stream",
     "text": [
      " 12345는 <class 'int'>\n",
      "------------------------------\n",
      "(var_y)는 <class 'float'>\n",
      "------------------------------\n",
      "12345는 <class 'str'>\n",
      "------------------------------\n",
      " True 는 <class 'bool'>\n"
     ]
    }
   ],
   "source": [
    "# var_x에 정수 12345를 할당\n",
    "var_x = 12345\n",
    "\n",
    " # var x의 값과 자료형을 출력\n",
    " # 마지막(end=)에 줄바꿈('n')과 구분선('-‘  30개) 그리고 줄바꿈(‘\\n')을 추가\n",
    "print(f' {var_x}는 {type(var_x)}' ,end= '\\n'+'-'*30+ '\\n')\n",
    "\n",
    "\n",
    "  # var x의 값을 실수형으로 변환하여 var y에 할당\n",
    "var_y = float (var_x)\n",
    "\n",
    " # var y의 값과 자료형을 출력\n",
    "print (f'(var_y)는 {type(var_y)}', end= '\\n'+'-'*30+ '\\n')\n",
    "\n",
    "\n",
    " # var_x의 값을 문자열로 변환하여 var_y에 할당\n",
    "var_y = str(var_x)\n",
    "\n",
    " # var y의 값과 자료형을 출력\n",
    "print (f'{var_y}는 {type(var_y)}', end='\\n'+'-'*30+ '\\n')\n",
    "\n",
    "\n",
    " # var x의 값을 불리언으로 변환하여 var y에 할당\n",
    " # 정수 12345는 0이 아니므로 True\n",
    "\n",
    "var_y = bool(var_x)\n",
    "\n",
    " # var y의 값과 자료형을 출력\n",
    "print (f' {var_y} 는 {type(var_y)}')\n"
   ]
  },
  {
   "cell_type": "markdown",
   "id": "ba73ba75",
   "metadata": {},
   "source": [
    "*iterable 자료형 변환 함수* \n",
    "- list(): 리스트로 변환 \n",
    "- tuple(): 튜플로 변환 \n",
    "- dict(): 딕셔너리로 변환 \n",
    "- set(): 집합으로 변환 \n",
    "\n",
    "Iterable 자료형은 반복가능한 자료형을 의미 \n",
    "-\t리스트, 튜플, 딕셔너리, 집합 등 \n",
    "-\t문자열은 문자의 배열이므로 iterable 자료형 \n",
    "\n",
    "Range()함수 \n",
    "-\tRange 함수는 연속된 정수를 생성하는 함수로서 iterable 자료형을 반환 \n",
    "-\tRange(시작, 끝, 증가폭)\n",
    "-\t시작은 포함, 끝은 미포함 \n",
    "-\t증가폭은 생략 가능하며, 생략시 1로 설정 \n"
   ]
  },
  {
   "cell_type": "code",
   "execution_count": 13,
   "id": "ea0e2922",
   "metadata": {},
   "outputs": [
    {
     "name": "stdout",
     "output_type": "stream",
     "text": [
      "range(-10, 0, 2)는 <class 'range'>\n",
      "------------------------------\n",
      "[-10, -8, -6, -4, -2]는 <class 'list'>\n",
      "------------------------------\n",
      "(-10, -8, -6, -4, -2)는 <class 'tuple'>\n",
      "------------------------------\n",
      "{-10, -8, -6, -4, -2}는 <class 'set'>\n",
      "------------------------------\n"
     ]
    }
   ],
   "source": [
    "# var_x에 -10부터 0(미포함)까지 2씩 증가하는 range 객체를 할당\n",
    "var_x = range(-10, 0, 2)\n",
    "\n",
    "# var_x의 값과 자료형을 출력\n",
    "print(f'{var_x}는 {type(var_x)}', end='\\n'+'-'*30+'\\n')\n",
    "\n",
    "# var_x의 값을 리스트로 변환하여 할당\n",
    "var_y = list(var_x)\n",
    "\n",
    "# var_y의 값과 자료형을 출력\n",
    "print(f'{var_y}는 {type(var_y)}', end='\\n'+'-'*30+'\\n')\n",
    "\n",
    "# var_x의 값을 튜플로 변환하여 할당\n",
    "var_y = tuple(var_x)\n",
    "\n",
    "# var_y의 값과 자료형을 출력\n",
    "print(f'{var_y}는 {type(var_y)}', end='\\n'+'-'*30+'\\n')\n",
    "\n",
    "# var_x의 값을 집합으로 변환하여 할당\n",
    "var_y = set(var_x)\n",
    "\n",
    "# var_y의 값과 자료형을 출력\n",
    "print(f'{var_y}는 {type(var_y)}', end='\\n'+'-'*30+'\\n')\n",
    "\n",
    "\n"
   ]
  },
  {
   "cell_type": "code",
   "execution_count": 14,
   "id": "6925020d",
   "metadata": {},
   "outputs": [
    {
     "name": "stdout",
     "output_type": "stream",
     "text": [
      "abcdabcd는 <class 'str'>\n",
      "------------------------------\n",
      "['a', 'b', 'c', 'd', 'a', 'b', 'c', 'd']는 <class 'list'>\n",
      "------------------------------\n",
      "('a', 'b', 'c', 'd', 'a', 'b', 'c', 'd')는 <class 'tuple'>\n",
      "------------------------------\n",
      "{'c', 'a', 'b', 'd'}는 <class 'set'>\n",
      "------------------------------\n"
     ]
    }
   ],
   "source": [
    "# var_x에 문자열 'abcdabcd'를 할당. 문자열은 iterable 자료형임\n",
    "var_x = \"abcdabcd\"\n",
    "print(f'{var_x}는 {type(var_x)}', end='\\n'+'-'*30+'\\n')\n",
    "\n",
    "# var_x의 값을 리스트로 변환하여 할당\n",
    "var_y = list(var_x)\n",
    "print(f'{var_y}는 {type(var_y)}', end='\\n'+'-'*30+'\\n')\n",
    "\n",
    "# var_x의 값을 튜플로 변환하여 할당\n",
    "var_y = tuple(var_x)\n",
    "print(f'{var_y}는 {type(var_y)}', end='\\n'+'-'*30+'\\n')\n",
    "\n",
    "# var_x의 값을 집합으로 변환하여 할당  \n",
    "# 집합은 중복을 허용하지 않으므로 'abcd'만 남음\n",
    "var_y = set(var_x)\n",
    "print(f'{var_y}는 {type(var_y)}', end='\\n'+'-'*30+'\\n')\n"
   ]
  },
  {
   "cell_type": "markdown",
   "id": "e4cebb88",
   "metadata": {},
   "source": [
    "#이번 과제에서는 강의에서 배운 내용을 기반으로, 문자열 자료형을 다양한 타입으로 변환하는 코드를 응용\n",
    "\n",
    "- 응용 1: 이름 문자열 'KimJihun' 사용\n",
    "\n",
    "- 강의에서는 'abcdabcd'를 사용했지만, 저는 'KimJihun'이라는 이름을 사용함\n",
    "- 이 문자열을 리스트, 튜플, 집합으로 변환하면서 각 자료형의 특징을 관찰함  \n",
    "\n",
    "\n",
    "\n"
   ]
  },
  {
   "cell_type": "code",
   "execution_count": 15,
   "id": "627f7ea1",
   "metadata": {},
   "outputs": [
    {
     "name": "stdout",
     "output_type": "stream",
     "text": [
      "KimJihun는 <class 'str'>\n",
      "------------------------------\n",
      "['K', 'i', 'm', 'J', 'i', 'h', 'u', 'n']는 <class 'list'>\n",
      "------------------------------\n",
      "('K', 'i', 'm', 'J', 'i', 'h', 'u', 'n')는 <class 'tuple'>\n",
      "------------------------------\n",
      "{'m', 'u', 'n', 'h', 'i', 'K', 'J'}는 <class 'set'>\n",
      "------------------------------\n"
     ]
    }
   ],
   "source": [
    "#  첫 번째 문자열: 본인 이름 'KimJihun'\n",
    "var_x = \"KimJihun\"\n",
    "print(f'{var_x}는 {type(var_x)}', end='\\n'+'-'*30+'\\n')\n",
    "\n",
    "# 리스트로 변환 → 문자 하나하나를 순서대로 저장\n",
    "var_y = list(var_x)\n",
    "print(f'{var_y}는 {type(var_y)}', end='\\n'+'-'*30+'\\n')\n",
    "\n",
    "# 튜플로 변환 → 리스트와 비슷하지만 수정 불가\n",
    "var_y = tuple(var_x)\n",
    "print(f'{var_y}는 {type(var_y)}', end='\\n'+'-'*30+'\\n')\n",
    "\n",
    "# 집합으로 변환 → 중복 제거되고 순서 없음\n",
    "var_y = set(var_x)\n",
    "print(f'{var_y}는 {type(var_y)}', end='\\n'+'-'*30+'\\n')\n",
    "\n"
   ]
  },
  {
   "cell_type": "markdown",
   "id": "12ce5c35",
   "metadata": {},
   "source": [
    "| 자료형 | 결과 | 특징 |\n",
    "\n",
    "| `list` | ['K', 'i', 'm', 'J', 'i', 'h', 'u', 'n'] | 순서 유지, 수정 가능 |\n",
    "| `tuple` | ('K', 'i', 'm', 'J', 'i', 'h', 'u', 'n') | 순서 유지, 수정 불가 |\n",
    "| `set` | {'u', 'K', 'J', 'i', 'n', 'm', 'h'} 등 | 순서 없음, 중복 제거됨 |"
   ]
  },
  {
   "cell_type": "markdown",
   "id": "3274aa3c",
   "metadata": {},
   "source": [
    "\n",
    "- 응용 2: 중복 테스트 문자열 'aabbccddeeff' 사용\n",
    "\n",
    "- 집합(set)은 중복을 제거하는 자료형\n",
    "- 'aabbccddeeff'를 집합으로 변환하면 → 중복 없이 `{'a', 'b', 'c', 'd', 'e', 'f'}`만 남게 됨 \n",
    "- 이를 통해 집합의 **중복 제거 특성**을 직접 확인할 수 있었음\n"
   ]
  },
  {
   "cell_type": "code",
   "execution_count": 16,
   "id": "06f84c45",
   "metadata": {},
   "outputs": [
    {
     "name": "stdout",
     "output_type": "stream",
     "text": [
      "aabbccddeeff는 <class 'str'>\n",
      "------------------------------\n",
      "{'e', 'c', 'b', 'f', 'd', 'a'}는 <class 'set'>\n",
      "------------------------------\n"
     ]
    }
   ],
   "source": [
    "# 두 번째 문자열: 중복 테스트용 'aabbccddeeff'\n",
    "# → 집합으로 변환 시 어떤 문자가 남는지 확인\n",
    "# -----------------------------------------------\n",
    "\n",
    "var_x = \"aabbccddeeff\"\n",
    "print(f'{var_x}는 {type(var_x)}', end='\\n'+'-'*30+'\\n')\n",
    "\n",
    "# 집합으로 변환 → 중복 문자 제거됨\n",
    "var_y = set(var_x)\n",
    "print(f'{var_y}는 {type(var_y)}', end='\\n'+'-'*30+'\\n')\n"
   ]
  },
  {
   "cell_type": "code",
   "execution_count": null,
   "id": "5e4a0a9f",
   "metadata": {},
   "outputs": [],
   "source": []
  }
 ],
 "metadata": {
  "kernelspec": {
   "display_name": "base",
   "language": "python",
   "name": "python3"
  },
  "language_info": {
   "codemirror_mode": {
    "name": "ipython",
    "version": 3
   },
   "file_extension": ".py",
   "mimetype": "text/x-python",
   "name": "python",
   "nbconvert_exporter": "python",
   "pygments_lexer": "ipython3",
   "version": "3.12.9"
  }
 },
 "nbformat": 4,
 "nbformat_minor": 5
}
